{
  "nbformat": 4,
  "nbformat_minor": 0,
  "metadata": {
    "colab": {
      "name": "Leaf Species Recognition.ipynb",
      "provenance": [],
      "collapsed_sections": []
    },
    "kernelspec": {
      "name": "python3",
      "display_name": "Python 3"
    },
    "accelerator": "GPU"
  },
  "cells": [
    {
      "cell_type": "code",
      "metadata": {
        "id": "Txqe-uNhNI0S",
        "colab_type": "code",
        "colab": {}
      },
      "source": [
        "!pip install fastai"
      ],
      "execution_count": null,
      "outputs": []
    },
    {
      "cell_type": "code",
      "metadata": {
        "id": "BgOsApcC96Q8",
        "colab_type": "code",
        "colab": {}
      },
      "source": [
        "import zipfile\n",
        "with zipfile.ZipFile(\"/content/drive/My Drive/Colab Notebooks/MachineHack/Leaf Species Recognition/Participants_Data_cvdc2020.zip\",\"r\") as zip_ref:\n",
        "    zip_ref.extractall(\"input\")"
      ],
      "execution_count": null,
      "outputs": []
    },
    {
      "cell_type": "code",
      "metadata": {
        "id": "16yuaIjV7gye",
        "colab_type": "code",
        "colab": {
          "base_uri": "https://localhost:8080/",
          "height": 88
        },
        "outputId": "7c100b25-e3fa-4e68-8b04-6be5b43ac001"
      },
      "source": [
        "import numpy as np\n",
        "import pandas as pd \n",
        "import seaborn as sns\n",
        "import matplotlib.pyplot as plt\n",
        "import os\n",
        "import cv2\n",
        "import glob\n",
        "import shutil\n",
        "import warnings\n",
        "warnings.filterwarnings(\"ignore\")\n",
        "newpath = r'/content/input/Participants_Data_cvdc2020/Train2/images' \n",
        "if not os.path.exists(newpath):\n",
        "    os.makedirs(newpath)\n",
        "print(os.listdir(\"/content/input/Participants_Data_cvdc2020/\"))\n",
        "# Any results you write to the current directory are saved as output."
      ],
      "execution_count": null,
      "outputs": [
        {
          "output_type": "stream",
          "text": [
            "/usr/local/lib/python3.6/dist-packages/statsmodels/tools/_testing.py:19: FutureWarning: pandas.util.testing is deprecated. Use the functions in the public API at pandas.testing instead.\n",
            "  import pandas.util.testing as tm\n"
          ],
          "name": "stderr"
        },
        {
          "output_type": "stream",
          "text": [
            "['Test.csv', 'Test', 'sample_submission.csv', 'Train.csv', 'Train2', 'Train', '.DS_Store']\n"
          ],
          "name": "stdout"
        }
      ]
    },
    {
      "cell_type": "code",
      "metadata": {
        "id": "4R6638mI7gzF",
        "colab_type": "code",
        "colab": {}
      },
      "source": [
        "from pathlib import Path\n",
        "from fastai import *\n",
        "from fastai.vision import *\n",
        "import torch\n",
        "from fastai.callbacks.hooks import *"
      ],
      "execution_count": null,
      "outputs": []
    },
    {
      "cell_type": "code",
      "metadata": {
        "id": "PpntUSxs7gzd",
        "colab_type": "code",
        "colab": {}
      },
      "source": [
        "data_folder = Path(\"/content/input/Participants_Data_cvdc2020/Train2\")"
      ],
      "execution_count": null,
      "outputs": []
    },
    {
      "cell_type": "code",
      "metadata": {
        "id": "PWfZttE27gzy",
        "colab_type": "code",
        "colab": {}
      },
      "source": [
        "data_path = \"/content/input/Participants_Data_cvdc2020/Train2/images\"\n",
        "path = os.path.join(data_path , \"*jpg\")"
      ],
      "execution_count": null,
      "outputs": []
    },
    {
      "cell_type": "code",
      "metadata": {
        "id": "NKp4SG5CiibT",
        "colab_type": "code",
        "colab": {}
      },
      "source": [
        "# mypath = \"/content/input/Participants_Data_cvdc2020/Train\"\n",
        "# for root, dirs, files in os.walk(mypath):\n",
        "#     for file in files:\n",
        "#       src = mypath+\"/\"+file\n",
        "#       dst = \"/content/input/Participants_Data_cvdc2020/Train2/images\"\n",
        "#       shutil.move(src, dst) "
      ],
      "execution_count": null,
      "outputs": []
    },
    {
      "cell_type": "code",
      "metadata": {
        "id": "Z6MWeHw7kJiq",
        "colab_type": "code",
        "colab": {}
      },
      "source": [
        "# mypath = \"/content/input/Participants_Data_cvdc2020/Test\"\n",
        "# for root, dirs, files in os.walk(mypath):\n",
        "#     for file in files:\n",
        "#       src = mypath+\"/\"+file\n",
        "#       dst = \"/content/input/Participants_Data_cvdc2020/Train2/images\"\n",
        "#       shutil.move(src, dst)"
      ],
      "execution_count": null,
      "outputs": []
    },
    {
      "cell_type": "code",
      "metadata": {
        "id": "Ll5grWZC7g0X",
        "colab_type": "code",
        "colab": {}
      },
      "source": [
        "train_df = pd.read_csv('/content/input/Participants_Data_cvdc2020/Train.csv').drop(\"file_id\",axis=1)[[\"file_name\",\"species\"]]\n",
        "test_df = pd.read_csv('/content/input/Participants_Data_cvdc2020/Test.csv').drop(\"file_id\",axis=1)[[\"file_name\"]]\n",
        "from sklearn.preprocessing import LabelEncoder\n",
        "le = LabelEncoder()\n",
        "train_df[\"species\"] = le.fit_transform(train_df[\"species\"])"
      ],
      "execution_count": null,
      "outputs": []
    },
    {
      "cell_type": "code",
      "metadata": {
        "id": "7t7DEgyPR6pq",
        "colab_type": "code",
        "colab": {
          "base_uri": "https://localhost:8080/",
          "height": 419
        },
        "outputId": "2c6f0bbf-c6ce-4dd6-9bff-3978fe33fff8"
      },
      "source": [
        "train_df"
      ],
      "execution_count": null,
      "outputs": [
        {
          "output_type": "execute_result",
          "data": {
            "text/html": [
              "<div>\n",
              "<style scoped>\n",
              "    .dataframe tbody tr th:only-of-type {\n",
              "        vertical-align: middle;\n",
              "    }\n",
              "\n",
              "    .dataframe tbody tr th {\n",
              "        vertical-align: top;\n",
              "    }\n",
              "\n",
              "    .dataframe thead th {\n",
              "        text-align: right;\n",
              "    }\n",
              "</style>\n",
              "<table border=\"1\" class=\"dataframe\">\n",
              "  <thead>\n",
              "    <tr style=\"text-align: right;\">\n",
              "      <th></th>\n",
              "      <th>file_name</th>\n",
              "      <th>species</th>\n",
              "    </tr>\n",
              "  </thead>\n",
              "  <tbody>\n",
              "    <tr>\n",
              "      <th>0</th>\n",
              "      <td>55502.jpg</td>\n",
              "      <td>0</td>\n",
              "    </tr>\n",
              "    <tr>\n",
              "      <th>1</th>\n",
              "      <td>55510.jpg</td>\n",
              "      <td>0</td>\n",
              "    </tr>\n",
              "    <tr>\n",
              "      <th>2</th>\n",
              "      <td>55515.jpg</td>\n",
              "      <td>0</td>\n",
              "    </tr>\n",
              "    <tr>\n",
              "      <th>3</th>\n",
              "      <td>55516.jpg</td>\n",
              "      <td>0</td>\n",
              "    </tr>\n",
              "    <tr>\n",
              "      <th>4</th>\n",
              "      <td>55517.jpg</td>\n",
              "      <td>0</td>\n",
              "    </tr>\n",
              "    <tr>\n",
              "      <th>...</th>\n",
              "      <td>...</td>\n",
              "      <td>...</td>\n",
              "    </tr>\n",
              "    <tr>\n",
              "      <th>10798</th>\n",
              "      <td>83814.jpg</td>\n",
              "      <td>183</td>\n",
              "    </tr>\n",
              "    <tr>\n",
              "      <th>10799</th>\n",
              "      <td>83815.jpg</td>\n",
              "      <td>183</td>\n",
              "    </tr>\n",
              "    <tr>\n",
              "      <th>10800</th>\n",
              "      <td>83818.jpg</td>\n",
              "      <td>183</td>\n",
              "    </tr>\n",
              "    <tr>\n",
              "      <th>10801</th>\n",
              "      <td>83819.jpg</td>\n",
              "      <td>183</td>\n",
              "    </tr>\n",
              "    <tr>\n",
              "      <th>10802</th>\n",
              "      <td>83820.jpg</td>\n",
              "      <td>183</td>\n",
              "    </tr>\n",
              "  </tbody>\n",
              "</table>\n",
              "<p>10803 rows × 2 columns</p>\n",
              "</div>"
            ],
            "text/plain": [
              "       file_name  species\n",
              "0      55502.jpg        0\n",
              "1      55510.jpg        0\n",
              "2      55515.jpg        0\n",
              "3      55516.jpg        0\n",
              "4      55517.jpg        0\n",
              "...          ...      ...\n",
              "10798  83814.jpg      183\n",
              "10799  83815.jpg      183\n",
              "10800  83818.jpg      183\n",
              "10801  83819.jpg      183\n",
              "10802  83820.jpg      183\n",
              "\n",
              "[10803 rows x 2 columns]"
            ]
          },
          "metadata": {
            "tags": []
          },
          "execution_count": 10
        }
      ]
    },
    {
      "cell_type": "code",
      "metadata": {
        "id": "iwdAu4VfUpoG",
        "colab_type": "code",
        "colab": {}
      },
      "source": [
        "# train_imagesdf=[]\n",
        "# for file1 in train_df[\"file_name\"].values:\n",
        "#       image = cv2.imread(\"/content/input/Participants_Data_cvdc2020/Train2/images\"+file1)\n",
        "#       train_imagesdf.append(image)\n",
        "# test_imagesdf=[]\n",
        "# for file1 in test_df[\"file_name\"].values:\n",
        "#       image = cv2.imread(\"/content/input/Participants_Data_cvdc2020/Train2/images\"+file1)\n",
        "#       test_imagesdf.append(image)"
      ],
      "execution_count": null,
      "outputs": []
    },
    {
      "cell_type": "code",
      "metadata": {
        "id": "sQ7M937gVIpI",
        "colab_type": "code",
        "colab": {}
      },
      "source": [
        "tfms = get_transforms(do_flip=True,flip_vert=False ,max_rotate=10.0, max_zoom=1.22, max_lighting=0.22, max_warp=0.0, p_affine=0.75,\n",
        "                      p_lighting=0.75)\n",
        "\n",
        "test_img = ImageList.from_df(test_df, path=data_folder, folder='images')"
      ],
      "execution_count": null,
      "outputs": []
    },
    {
      "cell_type": "code",
      "metadata": {
        "id": "RvOf8X-cWhAl",
        "colab_type": "code",
        "colab": {}
      },
      "source": [
        "np.random.seed(145)\n",
        "## create source of train image databunch\n",
        "src = (ImageList.from_df(train_df, path=data_folder, folder='images')\n",
        "      #  .split_by_rand_pct(0.2)\n",
        "       .split_none()\n",
        "       .label_from_df()\n",
        "       .add_test(test_img))"
      ],
      "execution_count": null,
      "outputs": []
    },
    {
      "cell_type": "code",
      "metadata": {
        "id": "rQt2NXYuWlOk",
        "colab_type": "code",
        "colab": {}
      },
      "source": [
        "data = (src.transform(tfms, size=299,padding_mode='reflection',resize_method=ResizeMethod.SQUISH)\n",
        "        .databunch(path='.', bs=32, device= torch.device('cuda:0')).normalize(imagenet_stats))"
      ],
      "execution_count": null,
      "outputs": []
    },
    {
      "cell_type": "code",
      "metadata": {
        "id": "bEW4itTsXWqS",
        "colab_type": "code",
        "colab": {
          "base_uri": "https://localhost:8080/",
          "height": 54
        },
        "outputId": "3bd5b101-404c-4017-8aa9-7a0de6fe553f"
      },
      "source": [
        "print(data.classes)"
      ],
      "execution_count": null,
      "outputs": [
        {
          "output_type": "stream",
          "text": [
            "[0, 1, 2, 3, 4, 5, 6, 7, 8, 9, 10, 11, 12, 13, 14, 15, 16, 17, 18, 19, 20, 21, 22, 23, 24, 25, 26, 27, 28, 29, 30, 31, 32, 33, 34, 35, 36, 37, 38, 39, 40, 41, 42, 43, 44, 45, 46, 47, 48, 49, 50, 51, 52, 53, 54, 55, 56, 57, 58, 59, 60, 61, 62, 63, 64, 65, 66, 67, 68, 69, 70, 71, 72, 73, 74, 75, 76, 77, 78, 79, 80, 81, 82, 83, 84, 85, 86, 87, 88, 89, 90, 91, 92, 93, 94, 95, 96, 97, 98, 99, 100, 101, 102, 103, 104, 105, 106, 107, 108, 109, 110, 111, 112, 113, 114, 115, 116, 117, 118, 119, 120, 121, 122, 123, 124, 125, 126, 127, 128, 129, 130, 131, 132, 133, 134, 135, 136, 137, 138, 139, 140, 141, 142, 143, 144, 145, 146, 147, 148, 149, 150, 151, 152, 153, 154, 155, 156, 157, 158, 159, 160, 161, 162, 163, 164, 165, 166, 167, 168, 169, 170, 171, 172, 173, 174, 175, 176, 177, 178, 179, 180, 181, 182, 183, 184]\n"
          ],
          "name": "stdout"
        }
      ]
    },
    {
      "cell_type": "code",
      "metadata": {
        "id": "N0_a1p6EXZ-d",
        "colab_type": "code",
        "colab": {}
      },
      "source": [
        "learn = cnn_learner(data=data, base_arch=models.resnet50, metrics=[FBeta(beta=1, average='macro'), accuracy],\n",
        "                    callback_fns=ShowGraph)"
      ],
      "execution_count": null,
      "outputs": []
    },
    {
      "cell_type": "code",
      "metadata": {
        "id": "P7W6MmfBXjRt",
        "colab_type": "code",
        "colab": {
          "base_uri": "https://localhost:8080/",
          "height": 408
        },
        "outputId": "803c43ed-bb61-4fb1-8bea-50a7c65acff4"
      },
      "source": [
        "learn.lr_find()\n",
        "learn.recorder.plot(suggestion=True)"
      ],
      "execution_count": null,
      "outputs": [
        {
          "output_type": "display_data",
          "data": {
            "text/html": [
              "\n",
              "    <div>\n",
              "        <style>\n",
              "            /* Turns off some styling */\n",
              "            progress {\n",
              "                /* gets rid of default border in Firefox and Opera. */\n",
              "                border: none;\n",
              "                /* Needs to be in here for Safari polyfill so background images work as expected. */\n",
              "                background-size: auto;\n",
              "            }\n",
              "            .progress-bar-interrupted, .progress-bar-interrupted::-webkit-progress-bar {\n",
              "                background: #F44336;\n",
              "            }\n",
              "        </style>\n",
              "      <progress value='0' class='' max='1' style='width:300px; height:20px; vertical-align: middle;'></progress>\n",
              "      0.00% [0/1 00:00<00:00]\n",
              "    </div>\n",
              "    \n",
              "<table border=\"1\" class=\"dataframe\">\n",
              "  <thead>\n",
              "    <tr style=\"text-align: left;\">\n",
              "      <th>epoch</th>\n",
              "      <th>train_loss</th>\n",
              "      <th>valid_loss</th>\n",
              "      <th>f_beta</th>\n",
              "      <th>accuracy</th>\n",
              "      <th>time</th>\n",
              "    </tr>\n",
              "  </thead>\n",
              "  <tbody>\n",
              "  </tbody>\n",
              "</table><p>\n",
              "\n",
              "    <div>\n",
              "        <style>\n",
              "            /* Turns off some styling */\n",
              "            progress {\n",
              "                /* gets rid of default border in Firefox and Opera. */\n",
              "                border: none;\n",
              "                /* Needs to be in here for Safari polyfill so background images work as expected. */\n",
              "                background-size: auto;\n",
              "            }\n",
              "            .progress-bar-interrupted, .progress-bar-interrupted::-webkit-progress-bar {\n",
              "                background: #F44336;\n",
              "            }\n",
              "        </style>\n",
              "      <progress value='90' class='' max='270' style='width:300px; height:20px; vertical-align: middle;'></progress>\n",
              "      33.33% [90/270 02:10<04:21 21.7973]\n",
              "    </div>\n",
              "    "
            ],
            "text/plain": [
              "<IPython.core.display.HTML object>"
            ]
          },
          "metadata": {
            "tags": []
          }
        },
        {
          "output_type": "stream",
          "text": [
            "LR Finder is complete, type {learner_name}.recorder.plot() to see the graph.\n",
            "Min numerical gradient: 4.37E-03\n",
            "Min loss divided by 10: 4.79E-03\n"
          ],
          "name": "stdout"
        },
        {
          "output_type": "display_data",
          "data": {
            "image/png": "[encoded data removed]",
            "text/plain": [
              "<Figure size 432x288 with 1 Axes>"
            ]
          },
          "metadata": {
            "tags": [],
            "needs_background": "light"
          }
        }
      ]
    },
    {
      "cell_type": "code",
      "metadata": {
        "id": "2Sp6WS7C9PND",
        "colab_type": "code",
        "colab": {
          "base_uri": "https://localhost:8080/",
          "height": 514
        },
        "outputId": "27de8fa4-d6cc-437e-f0e4-60272c96dfe8"
      },
      "source": [
        "lr = 4e-03\n",
        "learn.fit_one_cycle(15, slice(lr), wd=0.2)"
      ],
      "execution_count": null,
      "outputs": [
        {
          "output_type": "display_data",
          "data": {
            "text/html": [
              "<table border=\"1\" class=\"dataframe\">\n",
              "  <thead>\n",
              "    <tr style=\"text-align: left;\">\n",
              "      <th>epoch</th>\n",
              "      <th>train_loss</th>\n",
              "      <th>valid_loss</th>\n",
              "      <th>f_beta</th>\n",
              "      <th>accuracy</th>\n",
              "      <th>time</th>\n",
              "    </tr>\n",
              "  </thead>\n",
              "  <tbody>\n",
              "    <tr>\n",
              "      <td>0</td>\n",
              "      <td>3.537156</td>\n",
              "      <td>#na#</td>\n",
              "      <td>07:15</td>\n",
              "    </tr>\n",
              "    <tr>\n",
              "      <td>1</td>\n",
              "      <td>1.789373</td>\n",
              "      <td>#na#</td>\n",
              "      <td>07:09</td>\n",
              "    </tr>\n",
              "    <tr>\n",
              "      <td>2</td>\n",
              "      <td>1.238206</td>\n",
              "      <td>#na#</td>\n",
              "      <td>07:02</td>\n",
              "    </tr>\n",
              "    <tr>\n",
              "      <td>3</td>\n",
              "      <td>1.033207</td>\n",
              "      <td>#na#</td>\n",
              "      <td>07:03</td>\n",
              "    </tr>\n",
              "    <tr>\n",
              "      <td>4</td>\n",
              "      <td>0.818370</td>\n",
              "      <td>#na#</td>\n",
              "      <td>07:04</td>\n",
              "    </tr>\n",
              "    <tr>\n",
              "      <td>5</td>\n",
              "      <td>0.668197</td>\n",
              "      <td>#na#</td>\n",
              "      <td>07:00</td>\n",
              "    </tr>\n",
              "    <tr>\n",
              "      <td>6</td>\n",
              "      <td>0.581792</td>\n",
              "      <td>#na#</td>\n",
              "      <td>06:57</td>\n",
              "    </tr>\n",
              "    <tr>\n",
              "      <td>7</td>\n",
              "      <td>0.456420</td>\n",
              "      <td>#na#</td>\n",
              "      <td>06:57</td>\n",
              "    </tr>\n",
              "    <tr>\n",
              "      <td>8</td>\n",
              "      <td>0.382032</td>\n",
              "      <td>#na#</td>\n",
              "      <td>07:01</td>\n",
              "    </tr>\n",
              "    <tr>\n",
              "      <td>9</td>\n",
              "      <td>0.306331</td>\n",
              "      <td>#na#</td>\n",
              "      <td>07:13</td>\n",
              "    </tr>\n",
              "    <tr>\n",
              "      <td>10</td>\n",
              "      <td>0.236144</td>\n",
              "      <td>#na#</td>\n",
              "      <td>07:15</td>\n",
              "    </tr>\n",
              "    <tr>\n",
              "      <td>11</td>\n",
              "      <td>0.175987</td>\n",
              "      <td>#na#</td>\n",
              "      <td>07:24</td>\n",
              "    </tr>\n",
              "    <tr>\n",
              "      <td>12</td>\n",
              "      <td>0.133491</td>\n",
              "      <td>#na#</td>\n",
              "      <td>07:19</td>\n",
              "    </tr>\n",
              "    <tr>\n",
              "      <td>13</td>\n",
              "      <td>0.129269</td>\n",
              "      <td>#na#</td>\n",
              "      <td>07:13</td>\n",
              "    </tr>\n",
              "    <tr>\n",
              "      <td>14</td>\n",
              "      <td>0.115964</td>\n",
              "      <td>#na#</td>\n",
              "      <td>07:13</td>\n",
              "    </tr>\n",
              "  </tbody>\n",
              "</table>"
            ],
            "text/plain": [
              "<IPython.core.display.HTML object>"
            ]
          },
          "metadata": {
            "tags": []
          }
        }
      ]
    },
    {
      "cell_type": "code",
      "metadata": {
        "id": "1Bq6ZVJaXoR2",
        "colab_type": "code",
        "colab": {
          "base_uri": "https://localhost:8080/",
          "height": 545
        },
        "outputId": "e1a1667b-5c6b-4955-87f9-efadd94fbb3d"
      },
      "source": [
        "# lr = 4e-03\n",
        "# learn.fit_one_cycle(8, slice(lr), wd=0.2)"
      ],
      "execution_count": null,
      "outputs": [
        {
          "output_type": "display_data",
          "data": {
            "text/html": [
              "<table border=\"1\" class=\"dataframe\">\n",
              "  <thead>\n",
              "    <tr style=\"text-align: left;\">\n",
              "      <th>epoch</th>\n",
              "      <th>train_loss</th>\n",
              "      <th>valid_loss</th>\n",
              "      <th>f_beta</th>\n",
              "      <th>accuracy</th>\n",
              "      <th>time</th>\n",
              "    </tr>\n",
              "  </thead>\n",
              "  <tbody>\n",
              "    <tr>\n",
              "      <td>0</td>\n",
              "      <td>3.428453</td>\n",
              "      <td>1.900156</td>\n",
              "      <td>0.510113</td>\n",
              "      <td>0.533333</td>\n",
              "      <td>07:33</td>\n",
              "    </tr>\n",
              "    <tr>\n",
              "      <td>1</td>\n",
              "      <td>1.699614</td>\n",
              "      <td>1.105465</td>\n",
              "      <td>0.669410</td>\n",
              "      <td>0.684259</td>\n",
              "      <td>07:27</td>\n",
              "    </tr>\n",
              "    <tr>\n",
              "      <td>2</td>\n",
              "      <td>1.237549</td>\n",
              "      <td>0.790488</td>\n",
              "      <td>0.758526</td>\n",
              "      <td>0.772222</td>\n",
              "      <td>07:29</td>\n",
              "    </tr>\n",
              "    <tr>\n",
              "      <td>3</td>\n",
              "      <td>0.917512</td>\n",
              "      <td>0.598482</td>\n",
              "      <td>0.834538</td>\n",
              "      <td>0.837037</td>\n",
              "      <td>07:33</td>\n",
              "    </tr>\n",
              "    <tr>\n",
              "      <td>4</td>\n",
              "      <td>0.628465</td>\n",
              "      <td>0.464814</td>\n",
              "      <td>0.866245</td>\n",
              "      <td>0.869444</td>\n",
              "      <td>07:22</td>\n",
              "    </tr>\n",
              "    <tr>\n",
              "      <td>5</td>\n",
              "      <td>0.431774</td>\n",
              "      <td>0.318665</td>\n",
              "      <td>0.909317</td>\n",
              "      <td>0.908333</td>\n",
              "      <td>07:19</td>\n",
              "    </tr>\n",
              "    <tr>\n",
              "      <td>6</td>\n",
              "      <td>0.285106</td>\n",
              "      <td>0.283626</td>\n",
              "      <td>0.918226</td>\n",
              "      <td>0.920370</td>\n",
              "      <td>07:14</td>\n",
              "    </tr>\n",
              "    <tr>\n",
              "      <td>7</td>\n",
              "      <td>0.231532</td>\n",
              "      <td>0.277644</td>\n",
              "      <td>0.920383</td>\n",
              "      <td>0.921296</td>\n",
              "      <td>07:14</td>\n",
              "    </tr>\n",
              "  </tbody>\n",
              "</table>"
            ],
            "text/plain": [
              "<IPython.core.display.HTML object>"
            ]
          },
          "metadata": {
            "tags": []
          }
        },
        {
          "output_type": "display_data",
          "data": {
            "image/png": "[encoded data removed]",
            "text/plain": [
              "<Figure size 432x288 with 1 Axes>"
            ]
          },
          "metadata": {
            "tags": []
          }
        }
      ]
    },
    {
      "cell_type": "code",
      "metadata": {
        "id": "A4BQ54tlRbWE",
        "colab_type": "code",
        "colab": {}
      },
      "source": [
        "# learn.fit_one_cycle(3, slice(lr/2), wd=0.2)"
      ],
      "execution_count": null,
      "outputs": []
    },
    {
      "cell_type": "code",
      "metadata": {
        "id": "vuPk9qiiWvAv",
        "colab_type": "code",
        "colab": {}
      },
      "source": [
        "learn.freeze_to(-10)"
      ],
      "execution_count": null,
      "outputs": []
    },
    {
      "cell_type": "code",
      "metadata": {
        "id": "3YhSB1djW7mf",
        "colab_type": "code",
        "colab": {
          "base_uri": "https://localhost:8080/",
          "height": 408
        },
        "outputId": "53a7e6d0-8b1b-4085-9743-9bb269a925cd"
      },
      "source": [
        "learn.lr_find()\n",
        "learn.recorder.plot(suggestion=True)"
      ],
      "execution_count": null,
      "outputs": [
        {
          "output_type": "display_data",
          "data": {
            "text/html": [
              "\n",
              "    <div>\n",
              "        <style>\n",
              "            /* Turns off some styling */\n",
              "            progress {\n",
              "                /* gets rid of default border in Firefox and Opera. */\n",
              "                border: none;\n",
              "                /* Needs to be in here for Safari polyfill so background images work as expected. */\n",
              "                background-size: auto;\n",
              "            }\n",
              "            .progress-bar-interrupted, .progress-bar-interrupted::-webkit-progress-bar {\n",
              "                background: #F44336;\n",
              "            }\n",
              "        </style>\n",
              "      <progress value='0' class='' max='1' style='width:300px; height:20px; vertical-align: middle;'></progress>\n",
              "      0.00% [0/1 00:00<00:00]\n",
              "    </div>\n",
              "    \n",
              "<table border=\"1\" class=\"dataframe\">\n",
              "  <thead>\n",
              "    <tr style=\"text-align: left;\">\n",
              "      <th>epoch</th>\n",
              "      <th>train_loss</th>\n",
              "      <th>valid_loss</th>\n",
              "      <th>f_beta</th>\n",
              "      <th>accuracy</th>\n",
              "      <th>time</th>\n",
              "    </tr>\n",
              "  </thead>\n",
              "  <tbody>\n",
              "  </tbody>\n",
              "</table><p>\n",
              "\n",
              "    <div>\n",
              "        <style>\n",
              "            /* Turns off some styling */\n",
              "            progress {\n",
              "                /* gets rid of default border in Firefox and Opera. */\n",
              "                border: none;\n",
              "                /* Needs to be in here for Safari polyfill so background images work as expected. */\n",
              "                background-size: auto;\n",
              "            }\n",
              "            .progress-bar-interrupted, .progress-bar-interrupted::-webkit-progress-bar {\n",
              "                background: #F44336;\n",
              "            }\n",
              "        </style>\n",
              "      <progress value='50' class='' max='270' style='width:300px; height:20px; vertical-align: middle;'></progress>\n",
              "      18.52% [50/270 01:14<05:29 0.3294]\n",
              "    </div>\n",
              "    "
            ],
            "text/plain": [
              "<IPython.core.display.HTML object>"
            ]
          },
          "metadata": {
            "tags": []
          }
        },
        {
          "output_type": "stream",
          "text": [
            "LR Finder is complete, type {learner_name}.recorder.plot() to see the graph.\n",
            "Min numerical gradient: 6.31E-07\n",
            "Min loss divided by 10: 7.59E-08\n"
          ],
          "name": "stdout"
        },
        {
          "output_type": "display_data",
          "data": {
            "image/png": "[encoded data removed]",
            "text/plain": [
              "<Figure size 432x288 with 1 Axes>"
            ]
          },
          "metadata": {
            "tags": [],
            "needs_background": "light"
          }
        }
      ]
    },
    {
      "cell_type": "code",
      "metadata": {
        "id": "WPNvYnUbWscQ",
        "colab_type": "code",
        "colab": {}
      },
      "source": [
        "# learn.export(file = Path(\"/content/drive/My Drive/Colab Notebooks/MachineHack/Leaf Species Recognition/Bestnormalexport94.pkl\"))"
      ],
      "execution_count": null,
      "outputs": []
    },
    {
      "cell_type": "code",
      "metadata": {
        "id": "PqNe-YKRXAqI",
        "colab_type": "code",
        "colab": {
          "base_uri": "https://localhost:8080/",
          "height": 142
        },
        "outputId": "e3da7a1b-a360-45ff-f5c7-96ef14efc040"
      },
      "source": [
        "learn.fit_one_cycle(3, slice(1e-06, lr/10),wd=0.1)"
      ],
      "execution_count": null,
      "outputs": [
        {
          "output_type": "display_data",
          "data": {
            "text/html": [
              "<table border=\"1\" class=\"dataframe\">\n",
              "  <thead>\n",
              "    <tr style=\"text-align: left;\">\n",
              "      <th>epoch</th>\n",
              "      <th>train_loss</th>\n",
              "      <th>valid_loss</th>\n",
              "      <th>f_beta</th>\n",
              "      <th>accuracy</th>\n",
              "      <th>time</th>\n",
              "    </tr>\n",
              "  </thead>\n",
              "  <tbody>\n",
              "    <tr>\n",
              "      <td>0</td>\n",
              "      <td>0.150558</td>\n",
              "      <td>#na#</td>\n",
              "      <td>07:47</td>\n",
              "    </tr>\n",
              "    <tr>\n",
              "      <td>1</td>\n",
              "      <td>0.128642</td>\n",
              "      <td>#na#</td>\n",
              "      <td>07:46</td>\n",
              "    </tr>\n",
              "    <tr>\n",
              "      <td>2</td>\n",
              "      <td>0.088043</td>\n",
              "      <td>#na#</td>\n",
              "      <td>07:42</td>\n",
              "    </tr>\n",
              "  </tbody>\n",
              "</table>"
            ],
            "text/plain": [
              "<IPython.core.display.HTML object>"
            ]
          },
          "metadata": {
            "tags": []
          }
        }
      ]
    },
    {
      "cell_type": "code",
      "metadata": {
        "id": "78Ig2XXMgsI9",
        "colab_type": "code",
        "colab": {}
      },
      "source": [
        "learn.freeze_to(-3)"
      ],
      "execution_count": null,
      "outputs": []
    },
    {
      "cell_type": "code",
      "metadata": {
        "id": "yTD7yrPmg2TW",
        "colab_type": "code",
        "colab": {
          "base_uri": "https://localhost:8080/",
          "height": 408
        },
        "outputId": "88202e48-986e-4e29-d64a-d9327c8cf2fa"
      },
      "source": [
        "learn.lr_find()\n",
        "learn.recorder.plot(suggestion=True)"
      ],
      "execution_count": null,
      "outputs": [
        {
          "output_type": "display_data",
          "data": {
            "text/html": [
              "\n",
              "    <div>\n",
              "        <style>\n",
              "            /* Turns off some styling */\n",
              "            progress {\n",
              "                /* gets rid of default border in Firefox and Opera. */\n",
              "                border: none;\n",
              "                /* Needs to be in here for Safari polyfill so background images work as expected. */\n",
              "                background-size: auto;\n",
              "            }\n",
              "            .progress-bar-interrupted, .progress-bar-interrupted::-webkit-progress-bar {\n",
              "                background: #F44336;\n",
              "            }\n",
              "        </style>\n",
              "      <progress value='0' class='' max='1' style='width:300px; height:20px; vertical-align: middle;'></progress>\n",
              "      0.00% [0/1 00:00<00:00]\n",
              "    </div>\n",
              "    \n",
              "<table border=\"1\" class=\"dataframe\">\n",
              "  <thead>\n",
              "    <tr style=\"text-align: left;\">\n",
              "      <th>epoch</th>\n",
              "      <th>train_loss</th>\n",
              "      <th>valid_loss</th>\n",
              "      <th>f_beta</th>\n",
              "      <th>accuracy</th>\n",
              "      <th>time</th>\n",
              "    </tr>\n",
              "  </thead>\n",
              "  <tbody>\n",
              "  </tbody>\n",
              "</table><p>\n",
              "\n",
              "    <div>\n",
              "        <style>\n",
              "            /* Turns off some styling */\n",
              "            progress {\n",
              "                /* gets rid of default border in Firefox and Opera. */\n",
              "                border: none;\n",
              "                /* Needs to be in here for Safari polyfill so background images work as expected. */\n",
              "                background-size: auto;\n",
              "            }\n",
              "            .progress-bar-interrupted, .progress-bar-interrupted::-webkit-progress-bar {\n",
              "                background: #F44336;\n",
              "            }\n",
              "        </style>\n",
              "      <progress value='50' class='' max='270' style='width:300px; height:20px; vertical-align: middle;'></progress>\n",
              "      18.52% [50/270 01:14<05:28 0.2846]\n",
              "    </div>\n",
              "    "
            ],
            "text/plain": [
              "<IPython.core.display.HTML object>"
            ]
          },
          "metadata": {
            "tags": []
          }
        },
        {
          "output_type": "stream",
          "text": [
            "LR Finder is complete, type {learner_name}.recorder.plot() to see the graph.\n",
            "Min numerical gradient: 1.00E-05\n",
            "Min loss divided by 10: 1.58E-07\n"
          ],
          "name": "stdout"
        },
        {
          "output_type": "display_data",
          "data": {
            "image/png": "[encoded data removed]",
            "text/plain": [
              "<Figure size 432x288 with 1 Axes>"
            ]
          },
          "metadata": {
            "tags": [],
            "needs_background": "light"
          }
        }
      ]
    },
    {
      "cell_type": "code",
      "metadata": {
        "id": "COomWAbYXA_m",
        "colab_type": "code",
        "colab": {
          "base_uri": "https://localhost:8080/",
          "height": 390
        },
        "outputId": "d076ee00-6e52-4239-936c-750d7b084a43"
      },
      "source": [
        "learn.fit_one_cycle(3, slice(1e-05, lr/20),wd=0.2)"
      ],
      "execution_count": null,
      "outputs": [
        {
          "output_type": "display_data",
          "data": {
            "text/html": [
              "<table border=\"1\" class=\"dataframe\">\n",
              "  <thead>\n",
              "    <tr style=\"text-align: left;\">\n",
              "      <th>epoch</th>\n",
              "      <th>train_loss</th>\n",
              "      <th>valid_loss</th>\n",
              "      <th>f_beta</th>\n",
              "      <th>accuracy</th>\n",
              "      <th>time</th>\n",
              "    </tr>\n",
              "  </thead>\n",
              "  <tbody>\n",
              "    <tr>\n",
              "      <td>0</td>\n",
              "      <td>0.186533</td>\n",
              "      <td>0.269374</td>\n",
              "      <td>0.925732</td>\n",
              "      <td>0.923611</td>\n",
              "      <td>07:49</td>\n",
              "    </tr>\n",
              "    <tr>\n",
              "      <td>1</td>\n",
              "      <td>0.123426</td>\n",
              "      <td>0.200688</td>\n",
              "      <td>0.948211</td>\n",
              "      <td>0.947222</td>\n",
              "      <td>07:37</td>\n",
              "    </tr>\n",
              "    <tr>\n",
              "      <td>2</td>\n",
              "      <td>0.082385</td>\n",
              "      <td>0.168930</td>\n",
              "      <td>0.956532</td>\n",
              "      <td>0.956019</td>\n",
              "      <td>07:37</td>\n",
              "    </tr>\n",
              "  </tbody>\n",
              "</table>"
            ],
            "text/plain": [
              "<IPython.core.display.HTML object>"
            ]
          },
          "metadata": {
            "tags": []
          }
        },
        {
          "output_type": "display_data",
          "data": {
            "image/png": "[encoded data removed]",
            "text/plain": [
              "<Figure size 432x288 with 1 Axes>"
            ]
          },
          "metadata": {
            "tags": []
          }
        }
      ]
    },
    {
      "cell_type": "code",
      "metadata": {
        "id": "RqogavvybdgN",
        "colab_type": "code",
        "colab": {}
      },
      "source": [
        "learn.export(file = Path(\"/content/drive/My Drive/Colab Notebooks/MachineHack/Leaf Species Recognition/Bestexport956.pkl\"))"
      ],
      "execution_count": null,
      "outputs": []
    },
    {
      "cell_type": "code",
      "metadata": {
        "id": "LX-4XiDOWh89",
        "colab_type": "code",
        "colab": {}
      },
      "source": [
        "# deployed_path = \"/content/drive/My Drive/Colab Notebooks/MachineHack/Leaf Species Recognition/export3.pkl\"\n",
        "# learn = load_learner(deployed_path)"
      ],
      "execution_count": null,
      "outputs": []
    },
    {
      "cell_type": "code",
      "metadata": {
        "id": "JAt7fz9gj0Gq",
        "colab_type": "code",
        "colab": {
          "base_uri": "https://localhost:8080/",
          "height": 57
        },
        "outputId": "f5ba93e1-fe5c-438f-c04b-4c306fe51fa9"
      },
      "source": [
        "preds,_ = learn.TTA(ds_type=DatasetType.Test) # \n",
        "# preds,_ = learn.get_preds(ds_type = DatasetType.Test)\n",
        "labelled_preds = [np.argmax(preds[i]) for i in range(len(preds))]\n",
        "labelled_preds = np.array(labelled_preds)"
      ],
      "execution_count": null,
      "outputs": [
        {
          "output_type": "display_data",
          "data": {
            "text/html": [
              ""
            ],
            "text/plain": [
              "<IPython.core.display.HTML object>"
            ]
          },
          "metadata": {
            "tags": []
          }
        },
        {
          "output_type": "display_data",
          "data": {
            "text/html": [
              "\n",
              "    <div>\n",
              "        <style>\n",
              "            /* Turns off some styling */\n",
              "            progress {\n",
              "                /* gets rid of default border in Firefox and Opera. */\n",
              "                border: none;\n",
              "                /* Needs to be in here for Safari polyfill so background images work as expected. */\n",
              "                background-size: auto;\n",
              "            }\n",
              "            .progress-bar-interrupted, .progress-bar-interrupted::-webkit-progress-bar {\n",
              "                background: #F44336;\n",
              "            }\n",
              "        </style>\n",
              "      <progress value='3' class='' max='8' style='width:300px; height:20px; vertical-align: middle;'></progress>\n",
              "      37.50% [3/8 33:29<55:48]\n",
              "    </div>\n",
              "    \n",
              "\n",
              "\n",
              "    <div>\n",
              "        <style>\n",
              "            /* Turns off some styling */\n",
              "            progress {\n",
              "                /* gets rid of default border in Firefox and Opera. */\n",
              "                border: none;\n",
              "                /* Needs to be in here for Safari polyfill so background images work as expected. */\n",
              "                background-size: auto;\n",
              "            }\n",
              "            .progress-bar-interrupted, .progress-bar-interrupted::-webkit-progress-bar {\n",
              "                background: #F44336;\n",
              "            }\n",
              "        </style>\n",
              "      <progress value='394' class='' max='627' style='width:300px; height:20px; vertical-align: middle;'></progress>\n",
              "      62.84% [394/627 05:34<03:17]\n",
              "    </div>\n",
              "    "
            ],
            "text/plain": [
              "<IPython.core.display.HTML object>"
            ]
          },
          "metadata": {
            "tags": []
          }
        }
      ]
    },
    {
      "cell_type": "code",
      "metadata": {
        "id": "rbx5k_biClwD",
        "colab_type": "code",
        "colab": {}
      },
      "source": [
        "import pickle\n",
        "with open(\"/content/drive/My Drive/Colab Notebooks/MachineHack/Leaf Species Recognition/best_preds3.pkl\", 'wb') as f:\n",
        "  pickle.dump(preds, f)\n",
        "#---------------------------------------\n",
        "# with open(sFilename, 'r') as fiModel:\n",
        "#     preds = pickle.load(fiModel)"
      ],
      "execution_count": null,
      "outputs": []
    },
    {
      "cell_type": "markdown",
      "metadata": {
        "id": "s4WJ6sHfjSMr",
        "colab_type": "text"
      },
      "source": [
        "### Ensemble of Same model with different learning rate shown lot of improvement in LB, If we could use different models and then ensemble we can reach 99.xx"
      ]
    },
    {
      "cell_type": "code",
      "metadata": {
        "id": "LkfxMZdUDlZp",
        "colab_type": "code",
        "colab": {}
      },
      "source": [
        "sFilename = \"/content/drive/My Drive/Colab Notebooks/MachineHack/Leaf Species Recognition/best_preds3.pkl\"\n",
        "with open(sFilename, 'rb') as fiModel:\n",
        "    preds1 = pickle.load(fiModel)\n",
        "sFilename = \"/content/drive/My Drive/Colab Notebooks/MachineHack/Leaf Species Recognition/best_preds2.pkl\"\n",
        "with open(sFilename, 'rb') as fiModel:\n",
        "    preds2 = pickle.load(fiModel)\n",
        "final_preds = preds1*0.6 + preds2*0.4\n",
        "labelled_preds = [np.argmax(final_preds[i]) for i in range(len(final_preds))]\n",
        "labelled_preds = np.array(labelled_preds)"
      ],
      "execution_count": null,
      "outputs": []
    },
    {
      "cell_type": "code",
      "metadata": {
        "id": "zOkGGm8rj4RF",
        "colab_type": "code",
        "colab": {}
      },
      "source": [
        "df = pd.DataFrame({'file_name':test_df['file_name'], 'species':labelled_preds})\n",
        "df[\"species\"] = df[\"species\"].astype(int)\n",
        "df[\"species\"]  = le.inverse_transform(df[\"species\"])\n",
        "df[\"file_name\"] = df[\"file_name\"].astype(str)"
      ],
      "execution_count": null,
      "outputs": []
    },
    {
      "cell_type": "code",
      "metadata": {
        "id": "c6-SKm5ZnCbb",
        "colab_type": "code",
        "colab": {
          "base_uri": "https://localhost:8080/",
          "height": 419
        },
        "outputId": "3b3859b5-71fc-475d-8a4e-8926ce405ea9"
      },
      "source": [
        "df"
      ],
      "execution_count": null,
      "outputs": [
        {
          "output_type": "execute_result",
          "data": {
            "text/html": [
              "<div>\n",
              "<style scoped>\n",
              "    .dataframe tbody tr th:only-of-type {\n",
              "        vertical-align: middle;\n",
              "    }\n",
              "\n",
              "    .dataframe tbody tr th {\n",
              "        vertical-align: top;\n",
              "    }\n",
              "\n",
              "    .dataframe thead th {\n",
              "        text-align: right;\n",
              "    }\n",
              "</style>\n",
              "<table border=\"1\" class=\"dataframe\">\n",
              "  <thead>\n",
              "    <tr style=\"text-align: right;\">\n",
              "      <th></th>\n",
              "      <th>file_name</th>\n",
              "      <th>species</th>\n",
              "    </tr>\n",
              "  </thead>\n",
              "  <tbody>\n",
              "    <tr>\n",
              "      <th>0</th>\n",
              "      <td>55497.jpg</td>\n",
              "      <td>Abies concolor</td>\n",
              "    </tr>\n",
              "    <tr>\n",
              "      <th>1</th>\n",
              "      <td>55498.jpg</td>\n",
              "      <td>Abies concolor</td>\n",
              "    </tr>\n",
              "    <tr>\n",
              "      <th>2</th>\n",
              "      <td>55499.jpg</td>\n",
              "      <td>Abies concolor</td>\n",
              "    </tr>\n",
              "    <tr>\n",
              "      <th>3</th>\n",
              "      <td>55500.jpg</td>\n",
              "      <td>Abies concolor</td>\n",
              "    </tr>\n",
              "    <tr>\n",
              "      <th>4</th>\n",
              "      <td>55501.jpg</td>\n",
              "      <td>Abies concolor</td>\n",
              "    </tr>\n",
              "    <tr>\n",
              "      <th>...</th>\n",
              "      <td>...</td>\n",
              "      <td>...</td>\n",
              "    </tr>\n",
              "    <tr>\n",
              "      <th>20058</th>\n",
              "      <td>83811.jpg</td>\n",
              "      <td>Ulmus rubra</td>\n",
              "    </tr>\n",
              "    <tr>\n",
              "      <th>20059</th>\n",
              "      <td>83812.jpg</td>\n",
              "      <td>Ulmus rubra</td>\n",
              "    </tr>\n",
              "    <tr>\n",
              "      <th>20060</th>\n",
              "      <td>83816.jpg</td>\n",
              "      <td>Ulmus rubra</td>\n",
              "    </tr>\n",
              "    <tr>\n",
              "      <th>20061</th>\n",
              "      <td>83817.jpg</td>\n",
              "      <td>Ulmus rubra</td>\n",
              "    </tr>\n",
              "    <tr>\n",
              "      <th>20062</th>\n",
              "      <td>83821.jpg</td>\n",
              "      <td>Ulmus rubra</td>\n",
              "    </tr>\n",
              "  </tbody>\n",
              "</table>\n",
              "<p>20063 rows × 2 columns</p>\n",
              "</div>"
            ],
            "text/plain": [
              "       file_name         species\n",
              "0      55497.jpg  Abies concolor\n",
              "1      55498.jpg  Abies concolor\n",
              "2      55499.jpg  Abies concolor\n",
              "3      55500.jpg  Abies concolor\n",
              "4      55501.jpg  Abies concolor\n",
              "...          ...             ...\n",
              "20058  83811.jpg     Ulmus rubra\n",
              "20059  83812.jpg     Ulmus rubra\n",
              "20060  83816.jpg     Ulmus rubra\n",
              "20061  83817.jpg     Ulmus rubra\n",
              "20062  83821.jpg     Ulmus rubra\n",
              "\n",
              "[20063 rows x 2 columns]"
            ]
          },
          "metadata": {
            "tags": []
          },
          "execution_count": 58
        }
      ]
    },
    {
      "cell_type": "code",
      "metadata": {
        "id": "rQp9OOqCnFIb",
        "colab_type": "code",
        "colab": {}
      },
      "source": [
        "df.to_csv(\"submit_cv11.csv\",index=False)"
      ],
      "execution_count": null,
      "outputs": []
    },
    {
      "cell_type": "code",
      "metadata": {
        "id": "CCOp07_1nOlD",
        "colab_type": "code",
        "colab": {}
      },
      "source": [
        ""
      ],
      "execution_count": null,
      "outputs": []
    },
    {
      "cell_type": "code",
      "metadata": {
        "id": "68pohTlc-lXg",
        "colab_type": "code",
        "colab": {}
      },
      "source": [
        ""
      ],
      "execution_count": null,
      "outputs": []
    }
  ]
}